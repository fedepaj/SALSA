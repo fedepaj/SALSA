{
 "cells": [
  {
   "cell_type": "code",
   "execution_count": 1,
   "metadata": {},
   "outputs": [],
   "source": [
    "!python -m venv env"
   ]
  },
  {
   "cell_type": "code",
   "execution_count": 3,
   "metadata": {},
   "outputs": [],
   "source": [
    "!source env/bin/activate"
   ]
  },
  {
   "cell_type": "code",
   "execution_count": null,
   "metadata": {},
   "outputs": [],
   "source": [
    "%pip install \"torch>=1.7.0+cu114\" \"torchvision>=0.8.0+cu114\" \"torchaudio>=0.7.0+cu114\" -f https://download.pytorch.org/whl/torch_stable.html"
   ]
  },
  {
   "cell_type": "code",
   "execution_count": 4,
   "metadata": {},
   "outputs": [
    {
     "name": "stdout",
     "output_type": "stream",
     "text": [
      "Defaulting to user installation because normal site-packages is not writeable\n",
      "Requirement already satisfied: numpy in /home/fedepaj/.local/lib/python3.10/site-packages (from -r requirements.txt (line 1)) (1.22.2)\n",
      "Requirement already satisfied: scipy in /home/fedepaj/.local/lib/python3.10/site-packages (from -r requirements.txt (line 2)) (1.8.0)\n",
      "Requirement already satisfied: pandas in /home/fedepaj/.local/lib/python3.10/site-packages (from -r requirements.txt (line 3)) (1.4.1)\n",
      "Requirement already satisfied: scikit-learn in /home/fedepaj/.local/lib/python3.10/site-packages (from -r requirements.txt (line 4)) (1.0.2)\n",
      "Requirement already satisfied: h5py in /home/fedepaj/.local/lib/python3.10/site-packages (from -r requirements.txt (line 5)) (3.7.0)\n",
      "Requirement already satisfied: librosa in /home/fedepaj/.local/lib/python3.10/site-packages (from -r requirements.txt (line 6)) (0.9.2)\n",
      "Requirement already satisfied: tqdm in /home/fedepaj/.local/lib/python3.10/site-packages (from -r requirements.txt (line 7)) (4.63.0)\n",
      "Requirement already satisfied: torch in /home/fedepaj/.local/lib/python3.10/site-packages (from -r requirements.txt (line 8)) (1.12.1)\n",
      "Requirement already satisfied: pytorch-lightning in /home/fedepaj/.local/lib/python3.10/site-packages (from -r requirements.txt (line 9)) (1.7.6)\n",
      "Requirement already satisfied: tensorboardx in /home/fedepaj/.local/lib/python3.10/site-packages (from -r requirements.txt (line 10)) (2.5.1)\n",
      "Requirement already satisfied: pyyaml in /home/fedepaj/.local/lib/python3.10/site-packages (from -r requirements.txt (line 11)) (6.0)\n",
      "Requirement already satisfied: munch in /home/fedepaj/.local/lib/python3.10/site-packages (from -r requirements.txt (line 12)) (2.5.0)\n",
      "Requirement already satisfied: fire in /home/fedepaj/.local/lib/python3.10/site-packages (from -r requirements.txt (line 13)) (0.4.0)\n",
      "Collecting p_tqdm\n",
      "  Downloading p_tqdm-1.4.0.tar.gz (5.2 kB)\n",
      "  Preparing metadata (setup.py) ... \u001b[?25ldone\n",
      "\u001b[?25hRequirement already satisfied: python-dateutil>=2.8.1 in /home/fedepaj/.local/lib/python3.10/site-packages (from pandas->-r requirements.txt (line 3)) (2.8.2)\n",
      "Requirement already satisfied: pytz>=2020.1 in /home/fedepaj/.local/lib/python3.10/site-packages (from pandas->-r requirements.txt (line 3)) (2022.2.1)\n",
      "Requirement already satisfied: threadpoolctl>=2.0.0 in /home/fedepaj/.local/lib/python3.10/site-packages (from scikit-learn->-r requirements.txt (line 4)) (3.1.0)\n",
      "Requirement already satisfied: joblib>=0.11 in /home/fedepaj/.local/lib/python3.10/site-packages (from scikit-learn->-r requirements.txt (line 4)) (1.1.0)\n",
      "Requirement already satisfied: soundfile>=0.10.2 in /home/fedepaj/.local/lib/python3.10/site-packages (from librosa->-r requirements.txt (line 6)) (0.10.3.post1)\n",
      "Requirement already satisfied: resampy>=0.2.2 in /home/fedepaj/.local/lib/python3.10/site-packages (from librosa->-r requirements.txt (line 6)) (0.4.2)\n",
      "Requirement already satisfied: packaging>=20.0 in /home/fedepaj/.local/lib/python3.10/site-packages (from librosa->-r requirements.txt (line 6)) (21.3)\n",
      "Requirement already satisfied: decorator>=4.0.10 in /home/fedepaj/.local/lib/python3.10/site-packages (from librosa->-r requirements.txt (line 6)) (5.1.1)\n",
      "Requirement already satisfied: pooch>=1.0 in /home/fedepaj/.local/lib/python3.10/site-packages (from librosa->-r requirements.txt (line 6)) (1.6.0)\n",
      "Requirement already satisfied: numba>=0.45.1 in /home/fedepaj/.local/lib/python3.10/site-packages (from librosa->-r requirements.txt (line 6)) (0.56.2)\n",
      "Requirement already satisfied: audioread>=2.1.9 in /home/fedepaj/.local/lib/python3.10/site-packages (from librosa->-r requirements.txt (line 6)) (3.0.0)\n",
      "Requirement already satisfied: typing-extensions in /usr/lib/python3.10/site-packages (from torch->-r requirements.txt (line 8)) (4.3.0)\n",
      "Requirement already satisfied: tensorboard>=2.9.1 in /home/fedepaj/.local/lib/python3.10/site-packages (from pytorch-lightning->-r requirements.txt (line 9)) (2.10.0)\n",
      "Requirement already satisfied: pyDeprecate>=0.3.1 in /home/fedepaj/.local/lib/python3.10/site-packages (from pytorch-lightning->-r requirements.txt (line 9)) (0.3.2)\n",
      "Requirement already satisfied: torchmetrics>=0.7.0 in /home/fedepaj/.local/lib/python3.10/site-packages (from pytorch-lightning->-r requirements.txt (line 9)) (0.9.3)\n",
      "Requirement already satisfied: fsspec[http]!=2021.06.0,>=2021.05.0 in /home/fedepaj/.local/lib/python3.10/site-packages (from pytorch-lightning->-r requirements.txt (line 9)) (2022.8.2)\n",
      "Requirement already satisfied: protobuf<=3.20.1,>=3.8.0 in /home/fedepaj/.local/lib/python3.10/site-packages (from tensorboardx->-r requirements.txt (line 10)) (3.19.5)\n",
      "Requirement already satisfied: six in /home/fedepaj/.local/lib/python3.10/site-packages (from munch->-r requirements.txt (line 12)) (1.16.0)\n",
      "Requirement already satisfied: termcolor in /home/fedepaj/.local/lib/python3.10/site-packages (from fire->-r requirements.txt (line 13)) (2.0.1)\n",
      "Collecting pathos>=0.2.5\n",
      "  Downloading pathos-0.2.9-py3-none-any.whl (76 kB)\n",
      "\u001b[2K     \u001b[90m━━━━━━━━━━━━━━━━━━━━━━━━━━━━━━━━━━━━━━━━\u001b[0m \u001b[32m76.9/76.9 kB\u001b[0m \u001b[31m3.6 MB/s\u001b[0m eta \u001b[36m0:00:00\u001b[0m\n",
      "\u001b[?25hRequirement already satisfied: aiohttp!=4.0.0a0,!=4.0.0a1 in /home/fedepaj/.local/lib/python3.10/site-packages (from fsspec[http]!=2021.06.0,>=2021.05.0->pytorch-lightning->-r requirements.txt (line 9)) (3.8.3)\n",
      "Requirement already satisfied: requests in /home/fedepaj/.local/lib/python3.10/site-packages (from fsspec[http]!=2021.06.0,>=2021.05.0->pytorch-lightning->-r requirements.txt (line 9)) (2.28.1)\n",
      "Requirement already satisfied: setuptools<60 in /home/fedepaj/.local/lib/python3.10/site-packages (from numba>=0.45.1->librosa->-r requirements.txt (line 6)) (59.8.0)\n",
      "Requirement already satisfied: llvmlite<0.40,>=0.39.0dev0 in /home/fedepaj/.local/lib/python3.10/site-packages (from numba>=0.45.1->librosa->-r requirements.txt (line 6)) (0.39.1)\n",
      "Requirement already satisfied: pyparsing!=3.0.5,>=2.0.2 in /home/fedepaj/.local/lib/python3.10/site-packages (from packaging>=20.0->librosa->-r requirements.txt (line 6)) (3.0.9)\n",
      "Collecting multiprocess>=0.70.13\n",
      "  Downloading multiprocess-0.70.13-py310-none-any.whl (133 kB)\n",
      "\u001b[2K     \u001b[90m━━━━━━━━━━━━━━━━━━━━━━━━━━━━━━━━━━━━━━━\u001b[0m \u001b[32m133.1/133.1 kB\u001b[0m \u001b[31m5.7 MB/s\u001b[0m eta \u001b[36m0:00:00\u001b[0m\n",
      "\u001b[?25hCollecting dill>=0.3.5.1\n",
      "  Downloading dill-0.3.5.1-py2.py3-none-any.whl (95 kB)\n",
      "\u001b[2K     \u001b[90m━━━━━━━━━━━━━━━━━━━━━━━━━━━━━━━━━━━━━━━━\u001b[0m \u001b[32m95.8/95.8 kB\u001b[0m \u001b[31m7.2 MB/s\u001b[0m eta \u001b[36m0:00:00\u001b[0m\n",
      "\u001b[?25hCollecting pox>=0.3.1\n",
      "  Downloading pox-0.3.1-py2.py3-none-any.whl (28 kB)\n",
      "Collecting ppft>=1.7.6.5\n",
      "  Downloading ppft-1.7.6.5-py2.py3-none-any.whl (52 kB)\n",
      "\u001b[2K     \u001b[90m━━━━━━━━━━━━━━━━━━━━━━━━━━━━━━━━━━━━━━━━\u001b[0m \u001b[32m52.5/52.5 kB\u001b[0m \u001b[31m5.8 MB/s\u001b[0m eta \u001b[36m0:00:00\u001b[0m\n",
      "\u001b[?25hRequirement already satisfied: appdirs>=1.3.0 in /usr/lib/python3.10/site-packages (from pooch>=1.0->librosa->-r requirements.txt (line 6)) (1.4.4)\n",
      "Requirement already satisfied: cffi>=1.0 in /home/fedepaj/.local/lib/python3.10/site-packages (from soundfile>=0.10.2->librosa->-r requirements.txt (line 6)) (1.15.1)\n",
      "Requirement already satisfied: tensorboard-data-server<0.7.0,>=0.6.0 in /home/fedepaj/.local/lib/python3.10/site-packages (from tensorboard>=2.9.1->pytorch-lightning->-r requirements.txt (line 9)) (0.6.1)\n",
      "Requirement already satisfied: wheel>=0.26 in /home/fedepaj/.local/lib/python3.10/site-packages (from tensorboard>=2.9.1->pytorch-lightning->-r requirements.txt (line 9)) (0.37.1)\n",
      "Requirement already satisfied: google-auth-oauthlib<0.5,>=0.4.1 in /home/fedepaj/.local/lib/python3.10/site-packages (from tensorboard>=2.9.1->pytorch-lightning->-r requirements.txt (line 9)) (0.4.6)\n",
      "Requirement already satisfied: google-auth<3,>=1.6.3 in /home/fedepaj/.local/lib/python3.10/site-packages (from tensorboard>=2.9.1->pytorch-lightning->-r requirements.txt (line 9)) (2.11.1)\n",
      "Requirement already satisfied: absl-py>=0.4 in /home/fedepaj/.local/lib/python3.10/site-packages (from tensorboard>=2.9.1->pytorch-lightning->-r requirements.txt (line 9)) (1.2.0)\n",
      "Requirement already satisfied: tensorboard-plugin-wit>=1.6.0 in /home/fedepaj/.local/lib/python3.10/site-packages (from tensorboard>=2.9.1->pytorch-lightning->-r requirements.txt (line 9)) (1.8.1)\n",
      "Requirement already satisfied: grpcio>=1.24.3 in /home/fedepaj/.local/lib/python3.10/site-packages (from tensorboard>=2.9.1->pytorch-lightning->-r requirements.txt (line 9)) (1.48.1)\n",
      "Requirement already satisfied: markdown>=2.6.8 in /home/fedepaj/.local/lib/python3.10/site-packages (from tensorboard>=2.9.1->pytorch-lightning->-r requirements.txt (line 9)) (3.4.1)\n",
      "Requirement already satisfied: werkzeug>=1.0.1 in /home/fedepaj/.local/lib/python3.10/site-packages (from tensorboard>=2.9.1->pytorch-lightning->-r requirements.txt (line 9)) (2.2.2)\n",
      "Requirement already satisfied: charset-normalizer<3.0,>=2.0 in /home/fedepaj/.local/lib/python3.10/site-packages (from aiohttp!=4.0.0a0,!=4.0.0a1->fsspec[http]!=2021.06.0,>=2021.05.0->pytorch-lightning->-r requirements.txt (line 9)) (2.1.1)\n",
      "Requirement already satisfied: async-timeout<5.0,>=4.0.0a3 in /home/fedepaj/.local/lib/python3.10/site-packages (from aiohttp!=4.0.0a0,!=4.0.0a1->fsspec[http]!=2021.06.0,>=2021.05.0->pytorch-lightning->-r requirements.txt (line 9)) (4.0.2)\n",
      "Requirement already satisfied: multidict<7.0,>=4.5 in /home/fedepaj/.local/lib/python3.10/site-packages (from aiohttp!=4.0.0a0,!=4.0.0a1->fsspec[http]!=2021.06.0,>=2021.05.0->pytorch-lightning->-r requirements.txt (line 9)) (6.0.2)\n",
      "Requirement already satisfied: attrs>=17.3.0 in /home/fedepaj/.local/lib/python3.10/site-packages (from aiohttp!=4.0.0a0,!=4.0.0a1->fsspec[http]!=2021.06.0,>=2021.05.0->pytorch-lightning->-r requirements.txt (line 9)) (22.1.0)\n",
      "Requirement already satisfied: aiosignal>=1.1.2 in /home/fedepaj/.local/lib/python3.10/site-packages (from aiohttp!=4.0.0a0,!=4.0.0a1->fsspec[http]!=2021.06.0,>=2021.05.0->pytorch-lightning->-r requirements.txt (line 9)) (1.2.0)\n",
      "Requirement already satisfied: yarl<2.0,>=1.0 in /home/fedepaj/.local/lib/python3.10/site-packages (from aiohttp!=4.0.0a0,!=4.0.0a1->fsspec[http]!=2021.06.0,>=2021.05.0->pytorch-lightning->-r requirements.txt (line 9)) (1.8.1)\n",
      "Requirement already satisfied: frozenlist>=1.1.1 in /home/fedepaj/.local/lib/python3.10/site-packages (from aiohttp!=4.0.0a0,!=4.0.0a1->fsspec[http]!=2021.06.0,>=2021.05.0->pytorch-lightning->-r requirements.txt (line 9)) (1.3.1)\n",
      "Requirement already satisfied: pycparser in /home/fedepaj/.local/lib/python3.10/site-packages (from cffi>=1.0->soundfile>=0.10.2->librosa->-r requirements.txt (line 6)) (2.21)\n",
      "Requirement already satisfied: rsa<5,>=3.1.4 in /home/fedepaj/.local/lib/python3.10/site-packages (from google-auth<3,>=1.6.3->tensorboard>=2.9.1->pytorch-lightning->-r requirements.txt (line 9)) (4.9)\n",
      "Requirement already satisfied: cachetools<6.0,>=2.0.0 in /home/fedepaj/.local/lib/python3.10/site-packages (from google-auth<3,>=1.6.3->tensorboard>=2.9.1->pytorch-lightning->-r requirements.txt (line 9)) (5.2.0)\n",
      "Requirement already satisfied: pyasn1-modules>=0.2.1 in /home/fedepaj/.local/lib/python3.10/site-packages (from google-auth<3,>=1.6.3->tensorboard>=2.9.1->pytorch-lightning->-r requirements.txt (line 9)) (0.2.8)\n",
      "Requirement already satisfied: requests-oauthlib>=0.7.0 in /home/fedepaj/.local/lib/python3.10/site-packages (from google-auth-oauthlib<0.5,>=0.4.1->tensorboard>=2.9.1->pytorch-lightning->-r requirements.txt (line 9)) (1.3.1)\n",
      "Requirement already satisfied: idna<4,>=2.5 in /home/fedepaj/.local/lib/python3.10/site-packages (from requests->fsspec[http]!=2021.06.0,>=2021.05.0->pytorch-lightning->-r requirements.txt (line 9)) (3.4)\n",
      "Requirement already satisfied: urllib3<1.27,>=1.21.1 in /home/fedepaj/.local/lib/python3.10/site-packages (from requests->fsspec[http]!=2021.06.0,>=2021.05.0->pytorch-lightning->-r requirements.txt (line 9)) (1.26.12)\n",
      "Requirement already satisfied: certifi>=2017.4.17 in /home/fedepaj/.local/lib/python3.10/site-packages (from requests->fsspec[http]!=2021.06.0,>=2021.05.0->pytorch-lightning->-r requirements.txt (line 9)) (2022.9.14)\n",
      "Requirement already satisfied: MarkupSafe>=2.1.1 in /home/fedepaj/.local/lib/python3.10/site-packages (from werkzeug>=1.0.1->tensorboard>=2.9.1->pytorch-lightning->-r requirements.txt (line 9)) (2.1.1)\n",
      "Requirement already satisfied: pyasn1<0.5.0,>=0.4.6 in /home/fedepaj/.local/lib/python3.10/site-packages (from pyasn1-modules>=0.2.1->google-auth<3,>=1.6.3->tensorboard>=2.9.1->pytorch-lightning->-r requirements.txt (line 9)) (0.4.8)\n",
      "Requirement already satisfied: oauthlib>=3.0.0 in /home/fedepaj/.local/lib/python3.10/site-packages (from requests-oauthlib>=0.7.0->google-auth-oauthlib<0.5,>=0.4.1->tensorboard>=2.9.1->pytorch-lightning->-r requirements.txt (line 9)) (3.2.0)\n",
      "Building wheels for collected packages: p_tqdm\n",
      "  Building wheel for p_tqdm (setup.py) ... \u001b[?25ldone\n",
      "\u001b[?25h  Created wheel for p_tqdm: filename=p_tqdm-1.4.0-py3-none-any.whl size=5400 sha256=b971d90a990d8d23c515dbc7ed3c06b37255319cba06665d1a71dccbb2b5f3c1\n",
      "  Stored in directory: /home/fedepaj/.cache/pip/wheels/8e/f1/4b/e9e4adb8e573e9c41176bc7a08c47bba6babedc75900f5d05e\n",
      "Successfully built p_tqdm\n",
      "Installing collected packages: ppft, pox, dill, multiprocess, pathos, p_tqdm\n",
      "Successfully installed dill-0.3.5.1 multiprocess-0.70.13 p_tqdm-1.4.0 pathos-0.2.9 pox-0.3.1 ppft-1.7.6.5\n",
      "\u001b[33mWARNING: There was an error checking the latest version of pip.\u001b[0m\u001b[33m\n",
      "\u001b[0mNote: you may need to restart the kernel to use updated packages.\n"
     ]
    }
   ],
   "source": [
    "%pip install -r requirements.txt"
   ]
  },
  {
   "cell_type": "code",
   "execution_count": 7,
   "metadata": {},
   "outputs": [
    {
     "name": "stdout",
     "output_type": "stream",
     "text": [
      "Feature description: 24000fs_512nfft_300nhop_5cond_9000fmaxdoa\n",
      "============> Start extracting features for foa_dev split\n"
     ]
    },
    {
     "name": "stderr",
     "output_type": "stream",
     "text": [
      "  0%|          | 0/600 [00:02<?, ?it/s]\n"
     ]
    },
    {
     "ename": "KeyboardInterrupt",
     "evalue": "",
     "output_type": "error",
     "traceback": [
      "\u001b[0;31m---------------------------------------------------------------------------\u001b[0m",
      "\u001b[0;31mIndexError\u001b[0m                                Traceback (most recent call last)",
      "File \u001b[0;32m~/.local/lib/python3.10/site-packages/multiprocess/pool.py:853\u001b[0m, in \u001b[0;36mIMapIterator.next\u001b[0;34m(self, timeout)\u001b[0m\n\u001b[1;32m    852\u001b[0m \u001b[39mtry\u001b[39;00m:\n\u001b[0;32m--> 853\u001b[0m     item \u001b[39m=\u001b[39m \u001b[39mself\u001b[39;49m\u001b[39m.\u001b[39;49m_items\u001b[39m.\u001b[39;49mpopleft()\n\u001b[1;32m    854\u001b[0m \u001b[39mexcept\u001b[39;00m \u001b[39mIndexError\u001b[39;00m:\n",
      "\u001b[0;31mIndexError\u001b[0m: pop from an empty deque",
      "\nDuring handling of the above exception, another exception occurred:\n",
      "\u001b[0;31mKeyboardInterrupt\u001b[0m                         Traceback (most recent call last)",
      "Cell \u001b[0;32mIn [7], line 3\u001b[0m\n\u001b[1;32m      1\u001b[0m \u001b[38;5;28;01mfrom\u001b[39;00m \u001b[38;5;21;01mdataset\u001b[39;00m\u001b[38;5;21;01m.\u001b[39;00m\u001b[38;5;21;01msalsa_feature_extraction\u001b[39;00m \u001b[38;5;28;01mimport\u001b[39;00m extract_features\n\u001b[1;32m      2\u001b[0m \u001b[38;5;66;03m# cond_num: threshold for ddr for coherence test. (5, 0)\u001b[39;00m\n\u001b[0;32m----> 3\u001b[0m \u001b[43mextract_features\u001b[49m\u001b[43m(\u001b[49m\u001b[38;5;124;43m\"\u001b[39;49m\u001b[38;5;124;43m./dataset/configs/tnsse2021_salsa_feature_config.yml\u001b[39;49m\u001b[38;5;124;43m\"\u001b[39;49m\u001b[43m)\u001b[49m\n",
      "File \u001b[0;32m~/Documenti/magistrale/NN/project/SALSA/dataset/salsa_feature_extraction.py:353\u001b[0m, in \u001b[0;36mextract_features\u001b[0;34m(data_config, cond_num, n_hopframes, is_tracking, is_compress_high_freq, task)\u001b[0m\n\u001b[1;32m    349\u001b[0m         audio_fn_list \u001b[39m=\u001b[39m \u001b[39msorted\u001b[39m(os\u001b[39m.\u001b[39mlistdir(audio_dir))\n\u001b[1;32m    351\u001b[0m         \u001b[39m# Extract features\u001b[39;00m\n\u001b[0;32m--> 353\u001b[0m         p_umap(extract, audio_fn_list, [(audio_dir, fs, stft_feature_extractor, n_mics, n_fft, hop_length, n_bins, \n\u001b[1;32m    354\u001b[0m                 lower_bin, upper_bin, cond_num, n_hopframes, is_tracking, audio_format, freq_dim, feature_dir) \u001b[39mfor\u001b[39;49;00m _ \u001b[39min\u001b[39;49;00m \u001b[39mrange\u001b[39;49m(\u001b[39mlen\u001b[39;49m(audio_fn_list))])\n\u001b[1;32m    356\u001b[0m         \u001b[39mprint\u001b[39m(\u001b[39m\"\u001b[39m\u001b[39mExtracting feature finished! Elapsed time: \u001b[39m\u001b[39m{:.3f}\u001b[39;00m\u001b[39m s\u001b[39m\u001b[39m\"\u001b[39m\u001b[39m.\u001b[39mformat(timer() \u001b[39m-\u001b[39m start_time))\n\u001b[1;32m    358\u001b[0m \u001b[39m# Compute feature mean and std for train set. For simplification, we use same mean and std for validation and\u001b[39;00m\n\u001b[1;32m    359\u001b[0m \u001b[39m# evaluation\u001b[39;00m\n",
      "File \u001b[0;32m~/.local/lib/python3.10/site-packages/p_tqdm/p_tqdm.py:84\u001b[0m, in \u001b[0;36mp_umap\u001b[0;34m(function, *iterables, **kwargs)\u001b[0m\n\u001b[1;32m     82\u001b[0m ordered \u001b[39m=\u001b[39m \u001b[39mFalse\u001b[39;00m\n\u001b[1;32m     83\u001b[0m generator \u001b[39m=\u001b[39m _parallel(ordered, function, \u001b[39m*\u001b[39miterables, \u001b[39m*\u001b[39m\u001b[39m*\u001b[39mkwargs)\n\u001b[0;32m---> 84\u001b[0m result \u001b[39m=\u001b[39m \u001b[39mlist\u001b[39;49m(generator)\n\u001b[1;32m     86\u001b[0m \u001b[39mreturn\u001b[39;00m result\n",
      "File \u001b[0;32m~/.local/lib/python3.10/site-packages/p_tqdm/p_tqdm.py:54\u001b[0m, in \u001b[0;36m_parallel\u001b[0;34m(ordered, function, *iterables, **kwargs)\u001b[0m\n\u001b[1;32m     51\u001b[0m \u001b[39m# Choose tqdm variant\u001b[39;00m\n\u001b[1;32m     52\u001b[0m tqdm_func \u001b[39m=\u001b[39m kwargs\u001b[39m.\u001b[39mpop(\u001b[39m'\u001b[39m\u001b[39mtqdm\u001b[39m\u001b[39m'\u001b[39m, tqdm)\n\u001b[0;32m---> 54\u001b[0m \u001b[39mfor\u001b[39;00m item \u001b[39min\u001b[39;00m tqdm_func(map_func(function, \u001b[39m*\u001b[39miterables), total\u001b[39m=\u001b[39mlength, \u001b[39m*\u001b[39m\u001b[39m*\u001b[39mkwargs):\n\u001b[1;32m     55\u001b[0m     \u001b[39myield\u001b[39;00m item\n\u001b[1;32m     57\u001b[0m pool\u001b[39m.\u001b[39mclear()\n",
      "File \u001b[0;32m~/.local/lib/python3.10/site-packages/tqdm/std.py:1195\u001b[0m, in \u001b[0;36mtqdm.__iter__\u001b[0;34m(self)\u001b[0m\n\u001b[1;32m   1192\u001b[0m time \u001b[39m=\u001b[39m \u001b[39mself\u001b[39m\u001b[39m.\u001b[39m_time\n\u001b[1;32m   1194\u001b[0m \u001b[39mtry\u001b[39;00m:\n\u001b[0;32m-> 1195\u001b[0m     \u001b[39mfor\u001b[39;00m obj \u001b[39min\u001b[39;00m iterable:\n\u001b[1;32m   1196\u001b[0m         \u001b[39myield\u001b[39;00m obj\n\u001b[1;32m   1197\u001b[0m         \u001b[39m# Update and possibly print the progressbar.\u001b[39;00m\n\u001b[1;32m   1198\u001b[0m         \u001b[39m# Note: does not call self.update(1) for speed optimisation.\u001b[39;00m\n",
      "File \u001b[0;32m~/.local/lib/python3.10/site-packages/multiprocess/pool.py:858\u001b[0m, in \u001b[0;36mIMapIterator.next\u001b[0;34m(self, timeout)\u001b[0m\n\u001b[1;32m    856\u001b[0m     \u001b[39mself\u001b[39m\u001b[39m.\u001b[39m_pool \u001b[39m=\u001b[39m \u001b[39mNone\u001b[39;00m\n\u001b[1;32m    857\u001b[0m     \u001b[39mraise\u001b[39;00m \u001b[39mStopIteration\u001b[39;00m \u001b[39mfrom\u001b[39;00m \u001b[39mNone\u001b[39m\n\u001b[0;32m--> 858\u001b[0m \u001b[39mself\u001b[39;49m\u001b[39m.\u001b[39;49m_cond\u001b[39m.\u001b[39;49mwait(timeout)\n\u001b[1;32m    859\u001b[0m \u001b[39mtry\u001b[39;00m:\n\u001b[1;32m    860\u001b[0m     item \u001b[39m=\u001b[39m \u001b[39mself\u001b[39m\u001b[39m.\u001b[39m_items\u001b[39m.\u001b[39mpopleft()\n",
      "File \u001b[0;32m/usr/lib/python3.10/threading.py:320\u001b[0m, in \u001b[0;36mCondition.wait\u001b[0;34m(self, timeout)\u001b[0m\n\u001b[1;32m    318\u001b[0m \u001b[39mtry\u001b[39;00m:    \u001b[39m# restore state no matter what (e.g., KeyboardInterrupt)\u001b[39;00m\n\u001b[1;32m    319\u001b[0m     \u001b[39mif\u001b[39;00m timeout \u001b[39mis\u001b[39;00m \u001b[39mNone\u001b[39;00m:\n\u001b[0;32m--> 320\u001b[0m         waiter\u001b[39m.\u001b[39;49macquire()\n\u001b[1;32m    321\u001b[0m         gotit \u001b[39m=\u001b[39m \u001b[39mTrue\u001b[39;00m\n\u001b[1;32m    322\u001b[0m     \u001b[39melse\u001b[39;00m:\n",
      "\u001b[0;31mKeyboardInterrupt\u001b[0m: "
     ]
    }
   ],
   "source": [
    "from dataset.salsa_feature_extraction import extract_features\n",
    "# cond_num: threshold for ddr for coherence test. (5, 0)\n",
    "extract_features(\"./dataset/configs/tnsse2021_salsa_feature_config.yml\")"
   ]
  },
  {
   "cell_type": "code",
   "execution_count": null,
   "metadata": {},
   "outputs": [],
   "source": [
    "from dataset.feature_extraction import extract_features\n",
    "# cond_num: threshold for ddr for coherence test. (5, 0)\n",
    "extract_features(\"./dataset/configs/tnsse2021_feature_config.yml\")"
   ]
  }
 ],
 "metadata": {
  "kernelspec": {
   "display_name": "Python 3.10.7 64-bit",
   "language": "python",
   "name": "python3"
  },
  "language_info": {
   "codemirror_mode": {
    "name": "ipython",
    "version": 3
   },
   "file_extension": ".py",
   "mimetype": "text/x-python",
   "name": "python",
   "nbconvert_exporter": "python",
   "pygments_lexer": "ipython3",
   "version": "3.10.7"
  },
  "orig_nbformat": 4,
  "vscode": {
   "interpreter": {
    "hash": "e7370f93d1d0cde622a1f8e1c04877d8463912d04d973331ad4851f04de6915a"
   }
  }
 },
 "nbformat": 4,
 "nbformat_minor": 2
}
